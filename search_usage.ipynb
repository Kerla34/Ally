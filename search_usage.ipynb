{
 "cells": [
  {
   "cell_type": "code",
   "execution_count": 22,
   "metadata": {
    "collapsed": true
   },
   "outputs": [],
   "source": [
    "%matplotlib inline\n",
    "__author__ = 'thomas'\n",
    "\n",
    "'''\n",
    "In this part, we will look into how the users are using different options of the search, and how they are using it,\n",
    "in which context and try to find who they are and for which need they use it.\n",
    "'''\n",
    "\n",
    "# Alright ! Let's do this\n",
    "# We have csv file containing data from Ally app\n",
    "# The idea will be to extract as many insights as possible\n",
    "# Let's first start by importing the file\n",
    "\n",
    "\n",
    "# import libraries\n",
    "import numpy as np, matplotlib.pyplot as plt, matplotlib, pandas as pd, os\n",
    "\n",
    "# Import the data file as a Pandas DataFrame\n",
    "path = os.getcwd()\n",
    "rq = pd.read_csv(path + '/data/route_queries.csv')"
   ]
  },
  {
   "cell_type": "code",
   "execution_count": 23,
   "metadata": {
    "collapsed": false
   },
   "outputs": [
    {
     "name": "stdout",
     "output_type": "stream",
     "text": [
      "user_id                    object\n",
      "query_time                 object\n",
      "search_time                object\n",
      "search_mode                object\n",
      "search_origin_lat         float64\n",
      "search_origin_lon         float64\n",
      "search_destination_lat    float64\n",
      "search_destination_lon    float64\n",
      "dtype: object\n"
     ]
    }
   ],
   "source": [
    "# Check the columns and their data types\n",
    "\n",
    "print(rq.dtypes)"
   ]
  },
  {
   "cell_type": "code",
   "execution_count": 24,
   "metadata": {
    "collapsed": false
   },
   "outputs": [
    {
     "name": "stdout",
     "output_type": "stream",
     "text": [
      "user_id                           object\n",
      "query_time                datetime64[ns]\n",
      "search_time               datetime64[ns]\n",
      "search_mode                       object\n",
      "search_origin_lat                float64\n",
      "search_origin_lon                float64\n",
      "search_destination_lat           float64\n",
      "search_destination_lon           float64\n",
      "dtype: object\n"
     ]
    }
   ],
   "source": [
    "# Convert dates from object to date type:\n",
    "\n",
    "rq['query_time'] = (rq['query_time'].apply(pd.to_datetime))\n",
    "rq['search_time'] = (rq['search_time'].apply(pd.to_datetime))\n",
    "\n",
    "print(rq.dtypes)"
   ]
  },
  {
   "cell_type": "code",
   "execution_count": 25,
   "metadata": {
    "collapsed": false
   },
   "outputs": [
    {
     "name": "stdout",
     "output_type": "stream",
     "text": [
      "                            user_id          query_time         search_time  \\\n",
      "0  a705557d29972bc625e4918adb22fd71 2015-02-16 13:40:55 2015-02-16 13:40:00   \n",
      "1  d673381dc02a48921cde830672aef3ba 2015-04-19 10:06:08 2015-04-19 10:06:00   \n",
      "\n",
      "  search_mode  search_origin_lat  search_origin_lon  search_destination_lat  \\\n",
      "0   departure          50.910542           6.962613               50.941001   \n",
      "1   departure          52.398180          13.049791               52.404202   \n",
      "\n",
      "   search_destination_lon  \n",
      "0                6.975166  \n",
      "1               13.038500  \n",
      "\n",
      "\n"
     ]
    }
   ],
   "source": [
    "# Visualize 1st lines of the dataset\n",
    "\n",
    "print(rq.head(2))\n",
    "print('\\n')"
   ]
  },
  {
   "cell_type": "code",
   "execution_count": 26,
   "metadata": {
    "collapsed": false
   },
   "outputs": [
    {
     "name": "stdout",
     "output_type": "stream",
     "text": [
      "Number of events: 100000\n",
      "Index(['user_id', 'query_time', 'search_time', 'search_mode',\n",
      "       'search_origin_lat', 'search_origin_lon', 'search_destination_lat',\n",
      "       'search_destination_lon'],\n",
      "      dtype='object')\n"
     ]
    }
   ],
   "source": [
    "# What is the size of our sample ?\n",
    "rq_size = len(rq.index)\n",
    "print('Number of events: ' + str(rq_size))\n",
    "print(rq.columns)  # Column names"
   ]
  },
  {
   "cell_type": "code",
   "execution_count": 27,
   "metadata": {
    "collapsed": false
   },
   "outputs": [
    {
     "name": "stdout",
     "output_type": "stream",
     "text": [
      "0       -1 days +23:59:05\n",
      "1       -1 days +23:59:52\n",
      "2       -1 days +23:59:41\n",
      "3       -1 days +23:59:20\n",
      "4       -1 days +23:59:27\n",
      "5       -1 days +23:59:25\n",
      "6       -1 days +23:59:49\n",
      "7       -1 days +23:59:48\n",
      "8         0 days 01:13:20\n",
      "9       -1 days +23:59:14\n",
      "10      -1 days +23:59:26\n",
      "11        0 days 00:51:02\n",
      "12        0 days 00:02:49\n",
      "13        0 days 02:43:38\n",
      "14      -1 days +23:59:49\n",
      "15      -1 days +23:59:22\n",
      "16      -1 days +23:59:28\n",
      "17      -1 days +23:59:03\n",
      "18      -1 days +23:59:43\n",
      "19      -1 days +23:59:05\n",
      "20        0 days 00:14:22\n",
      "21        0 days 00:30:18\n",
      "22      -1 days +23:59:51\n",
      "23      -1 days +23:58:59\n",
      "24        0 days 00:59:32\n",
      "25        1 days 18:18:12\n",
      "26        0 days 00:18:10\n",
      "27        0 days 03:49:45\n",
      "28      -1 days +23:59:29\n",
      "29        0 days 01:42:09\n",
      "               ...       \n",
      "99970   -1 days +23:59:17\n",
      "99971   -1 days +23:59:04\n",
      "99972   -1 days +23:59:09\n",
      "99973     0 days 00:06:58\n",
      "99974   -1 days +23:58:47\n",
      "99975     2 days 08:49:34\n",
      "99976   -1 days +23:59:53\n",
      "99977   -1 days +23:59:28\n",
      "99978   -1 days +23:59:06\n",
      "99979   -1 days +23:59:23\n",
      "99980   -1 days +23:59:28\n",
      "99981     0 days 00:10:37\n",
      "99982     0 days 07:53:48\n",
      "99983     0 days 10:57:22\n",
      "99984     0 days 03:58:12\n",
      "99985   -1 days +23:59:06\n",
      "99986   -1 days +23:59:06\n",
      "99987   -1 days +23:59:16\n",
      "99988   -1 days +23:59:00\n",
      "99989     0 days 01:36:33\n",
      "99990   -1 days +23:59:30\n",
      "99991   -1 days +23:58:53\n",
      "99992   -1 days +23:42:24\n",
      "99993   -1 days +23:59:16\n",
      "99994   -1 days +23:59:17\n",
      "99995   -1 days +23:59:16\n",
      "99996   -1 days +23:59:32\n",
      "99997   -1 days +23:59:41\n",
      "99998   -1 days +23:59:36\n",
      "99999   -1 days +23:59:44\n",
      "Name: query_to_search_time, dtype: timedelta64[ns]\n"
     ]
    }
   ],
   "source": [
    "# Are users searching their route in advance or at last minute ?\n",
    "\n",
    "rq['query_to_search_time'] = rq['search_time'] - rq['query_time']\n",
    "print(rq['query_to_search_time'])"
   ]
  },
  {
   "cell_type": "code",
   "execution_count": 28,
   "metadata": {
    "collapsed": true
   },
   "outputs": [],
   "source": [
    "# Negative values are due to the small delay between app opening and the actual time the user\n",
    "# tap the search button. We can see that they are really small.\n",
    "# They should not be considered for our use case... BUT they give us\n",
    "# a very useful information: the time to complete the form !\n",
    "# It's actually an indicator we could use for UX evaluation (and improvement) (we'll come back on this later!)"
   ]
  },
  {
   "cell_type": "code",
   "execution_count": 29,
   "metadata": {
    "collapsed": false
   },
   "outputs": [
    {
     "name": "stdout",
     "output_type": "stream",
     "text": [
      "count                     29905\n",
      "mean     1 days 00:22:43.617923\n",
      "std      7 days 01:14:21.059081\n",
      "min             0 days 00:00:01\n",
      "25%             0 days 00:43:40\n",
      "50%             0 days 02:59:35\n",
      "75%             0 days 12:54:50\n",
      "max           724 days 19:18:00\n",
      "Name: query_to_search_time, dtype: object\n"
     ]
    }
   ],
   "source": [
    "# Let's check how much time in advance the user look for a route\n",
    "rq_in_advance = rq[rq['query_to_search_time'] > pd.Timedelta('0 days')]\n",
    "print(rq_in_advance['query_to_search_time'].describe())"
   ]
  },
  {
   "cell_type": "code",
   "execution_count": 30,
   "metadata": {
    "collapsed": false
   },
   "outputs": [
    {
     "name": "stdout",
     "output_type": "stream",
     "text": [
      "29905 events are use to check the route in advance, they represent 29.9% of our the app usage\n"
     ]
    }
   ],
   "source": [
    "print(str(len(rq_in_advance.index)) + ' events are use to check the route in advance, they represent ' +\n",
    "      str(round(len(rq_in_advance.index) / rq_size * 100, 2)) + '% of our the app usage')"
   ]
  },
  {
   "cell_type": "code",
   "execution_count": 31,
   "metadata": {
    "collapsed": false
   },
   "outputs": [
    {
     "name": "stdout",
     "output_type": "stream",
     "text": [
      "count                     29781\n",
      "mean     0 days 17:06:32.825459\n",
      "std      2 days 03:52:19.202079\n",
      "min             0 days 00:00:01\n",
      "25%             0 days 00:43:19\n",
      "50%             0 days 02:58:14\n",
      "75%             0 days 12:46:08\n",
      "max            29 days 23:59:21\n",
      "Name: query_to_search_time, dtype: object\n",
      "count                        124\n",
      "mean     73 days 18:19:45.959677\n",
      "std      74 days 20:08:00.572751\n",
      "min             30 days 00:39:28\n",
      "25%      39 days 08:35:11.500000\n",
      "50%             51 days 19:44:00\n",
      "75%      78 days 15:01:51.250000\n",
      "max            724 days 19:18:00\n",
      "Name: query_to_search_time, dtype: object\n"
     ]
    }
   ],
   "source": [
    "# Looks like there are some outliers here, some people searching for long time in the future.. Doesn't look like\n",
    "# a normal usage of Ally, let's limit it to 30 days in the future to exclude extreme cases.\n",
    "rq_in_advance_filter = rq_in_advance[rq_in_advance['query_to_search_time'] < pd.Timedelta('30 days')]\n",
    "print(rq_in_advance_filter['query_to_search_time'].describe())\n",
    "rq_in_advance_filter2 = rq_in_advance[rq_in_advance['query_to_search_time'] > pd.Timedelta('30 days')]\n",
    "print(rq_in_advance_filter2['query_to_search_time'].describe())"
   ]
  },
  {
   "cell_type": "code",
   "execution_count": 32,
   "metadata": {
    "collapsed": false
   },
   "outputs": [
    {
     "data": {
      "text/plain": [
       "0    9614\n",
       "1    3651\n",
       "2    1692\n",
       "3     987\n",
       "4     685\n",
       "5     531\n",
       "6     580\n",
       "7     698\n",
       "8     907\n",
       "9     935\n",
       "Name: query_to_search_time, dtype: int64"
      ]
     },
     "execution_count": 32,
     "metadata": {},
     "output_type": "execute_result"
    }
   ],
   "source": [
    "# Let's describe the distribution of this usage in a histogram, per hour\n",
    "\n",
    "# Let's calculate the total time in hour and trunc. The value 0 corresponds to the bucket 0-1 hour\n",
    "# The value n corresponds to the bucket n-n+1 hour before departure\n",
    "value_hour = np.trunc(rq_in_advance_filter['query_to_search_time'].astype('timedelta64[s]') / 3600)\n",
    "time_in_advance = value_hour.value_counts(sort=False)\n",
    "time_in_advance.head(10)"
   ]
  },
  {
   "cell_type": "code",
   "execution_count": 33,
   "metadata": {
    "collapsed": false
   },
   "outputs": [
    {
     "name": "stdout",
     "output_type": "stream",
     "text": [
      "422\n",
      "79\n"
     ]
    }
   ],
   "source": [
    "# We probably have a lot of small value, we need to define a treshold before plotting \n",
    "print(len(time_in_advance.index))\n",
    "print(len(time_in_advance[time_in_advance>20]))"
   ]
  },
  {
   "cell_type": "code",
   "execution_count": 34,
   "metadata": {
    "collapsed": true
   },
   "outputs": [],
   "source": [
    "time_in_advance_f = time_in_advance[time_in_advance>20]"
   ]
  },
  {
   "cell_type": "code",
   "execution_count": 35,
   "metadata": {
    "collapsed": false
   },
   "outputs": [
    {
     "data": {
      "image/png": "[encoded data removed]"
     },
     "metadata": {},
     "output_type": "display_data"
    }
   ],
   "source": [
    "# Let's plot this :\n",
    "\n",
    "plt.bar(time_in_advance_f.index,time_in_advance_f,  color=\"blue\")\n",
    "plt.show()"
   ]
  },
  {
   "cell_type": "code",
   "execution_count": 36,
   "metadata": {
    "collapsed": false
   },
   "outputs": [
    {
     "data": {
      "image/png": "[encoded data removed]"
     },
     "metadata": {},
     "output_type": "display_data"
    }
   ],
   "source": [
    "# With no surprise, majority of users are looking for routes in the next few hours\n",
    "# There seems to be a local maximum within the first 24 hours, let's have a closer look at this:\n",
    "time_in_advance24 = time_in_advance.head(24)\n",
    "plt.bar(time_in_advance24.index,time_in_advance24,  color=\"blue\")\n",
    "plt.show()"
   ]
  },
  {
   "cell_type": "code",
   "execution_count": 37,
   "metadata": {
    "collapsed": false
   },
   "outputs": [
    {
     "data": {
      "text/plain": [
       "0     32.148470\n",
       "1     12.208661\n",
       "2      5.657917\n",
       "3      3.300451\n",
       "4      2.290587\n",
       "5      1.775623\n",
       "6      1.939475\n",
       "7      2.334058\n",
       "8      3.032938\n",
       "9      3.126567\n",
       "10     2.788831\n",
       "11     2.671794\n",
       "12     2.153486\n",
       "13     1.578331\n",
       "14     1.488045\n",
       "15     1.384384\n",
       "16     1.106838\n",
       "17     1.110182\n",
       "18     0.899515\n",
       "19     1.013208\n",
       "20     0.772446\n",
       "21     0.621970\n",
       "22     0.678816\n",
       "23     0.902859\n",
       "Name: query_to_search_time, dtype: float64"
      ]
     },
     "execution_count": 37,
     "metadata": {},
     "output_type": "execute_result"
    }
   ],
   "source": [
    "# In percentage : \n",
    "time_in_advance24 / len(rq_in_advance.index) * 100"
   ]
  },
  {
   "cell_type": "code",
   "execution_count": 38,
   "metadata": {
    "collapsed": true
   },
   "outputs": [],
   "source": [
    "# 32% of searches in advance are within the next hour\n",
    "# 12% between one and two hours\n",
    "# 5.7 % between two and three and so on...\n",
    "\n",
    "# There is a local maximum between 7 and 12 hours, it probably correspond to the users that are looking their \n",
    "# route in the evening for the next day or in the morning for the evening."
   ]
  },
  {
   "cell_type": "code",
   "execution_count": 39,
   "metadata": {
    "collapsed": false
   },
   "outputs": [
    {
     "data": {
      "text/plain": [
       "0     1589\n",
       "1     1121\n",
       "2     1058\n",
       "3     1209\n",
       "4     1890\n",
       "5     3057\n",
       "6     4194\n",
       "7     4455\n",
       "8     4637\n",
       "9     4716\n",
       "10    4847\n",
       "11    4859\n",
       "12    5155\n",
       "13    5408\n",
       "14    5793\n",
       "15    5999\n",
       "16    6196\n",
       "17    5990\n",
       "18    5771\n",
       "19    5302\n",
       "20    5477\n",
       "21    5013\n",
       "22    3865\n",
       "23    2399\n",
       "Name: query_time_hour, dtype: int64"
      ]
     },
     "execution_count": 39,
     "metadata": {},
     "output_type": "execute_result"
    }
   ],
   "source": [
    "# This raison our next question, at what time is the app used ?\n",
    "# In the same way we'll have a look at the time of day\n",
    "# Note : I took the assumption that the times are expressed in local time everytime\n",
    "# This assumption should be valid because even if the sample is coming from different cities and countries, \n",
    "# the query time should be expressed in local time, not as GMT for analysis purpose.\n",
    "rq['query_time_hour'] = np.trunc((rq['query_time'] - pd.to_datetime(0)).dt.seconds / 3600)\n",
    "rq['query_time_hour']\n",
    "use_time_hour = rq['query_time_hour'].value_counts(sort=False)\n",
    "use_time_hour"
   ]
  },
  {
   "cell_type": "code",
   "execution_count": 40,
   "metadata": {
    "collapsed": false
   },
   "outputs": [
    {
     "data": {
      "image/png": "[encoded data removed]"
     },
     "metadata": {},
     "output_type": "display_data"
    }
   ],
   "source": [
    "# Let's plot this :\n",
    "\n",
    "plt.bar(use_time_hour.index,use_time_hour,  color=\"blue\")\n",
    "plt.show()"
   ]
  },
  {
   "cell_type": "code",
   "execution_count": 98,
   "metadata": {
    "collapsed": false
   },
   "outputs": [
    {
     "data": {
      "image/png": "[encoded data removed]"
     },
     "metadata": {},
     "output_type": "display_data"
    }
   ],
   "source": [
    "# As we can expect, most of the route searches are happening during \"day time\", between 6 and 22\n",
    "# with a maximum around 17:00, end of the day for most of the business\n",
    "# The usage \n",
    "# We can also have a look at the day of week, to check if the app is mostly used during week (work comuting)\n",
    "# Or other the weekends (freetime, tourism...)\n",
    "\n",
    "rq['query_time_dow'] = rq['query_time'].apply( lambda x : x.dayofweek) # Note: Monday = 0, Sun = 6\n",
    "use_dow = rq['query_time_dow'].value_counts(sort=False)\n",
    "use_dow_perc = np.round(use_dow/use_dow.sum()*100,2)\n",
    "\n",
    "fig = plt.figure()\n",
    "ax = fig.add_subplot(111)\n",
    "ax.set_ylim(use_dow_perc.mean() - 3 * use_dow_perc.std(),use_dow_perc.mean() + 3 * use_dow_perc.std())\n",
    "plt.bar(use_dow_perc.index,use_dow_perc,color=\"blue\")\n",
    "plt.xlabel('Day of week')\n",
    "plt.ylabel('Percent')\n",
    "for i,j in zip(use_dow_perc.index,use_dow_perc):\n",
    "    ax.annotate(str(j),xy=(i+0.1,j+0.2))\n",
    "plt.show()"
   ]
  },
  {
   "cell_type": "code",
   "execution_count": 100,
   "metadata": {
    "collapsed": false
   },
   "outputs": [
    {
     "data": {
      "image/png": "[encoded data removed]"
     },
     "metadata": {},
     "output_type": "display_data"
    }
   ],
   "source": [
    "# The usage is quite uniform throughout the days of week:\n",
    "# Let's plot the deviation from the mean:\n",
    "\n",
    "fig = plt.figure()\n",
    "ax = fig.add_subplot(111)\n",
    "ax.set_ylim(0 - 3 * use_dow_perc.std(),0 + 3 * use_dow_perc.std())\n",
    "plt.bar(use_dow_perc.index,use_dow_perc-round(use_dow_perc.mean(),2),color=\"blue\")\n",
    "plt.xlabel('Day of week')\n",
    "plt.ylabel('Percent')\n",
    "for i,j in zip(use_dow_perc.index,use_dow_perc-round(use_dow_perc.mean(),2)):\n",
    "    ax.annotate(str(j),xy=(i+0.1,j+0.2))\n",
    "plt.show()"
   ]
  },
  {
   "cell_type": "code",
   "execution_count": 103,
   "metadata": {
    "collapsed": true
   },
   "outputs": [],
   "source": [
    "# The variation between the days is around +/- 1% of total number of searches, it is quite constant\n",
    "\n",
    "# There is a peak on Friday and Saturday (Thursday is also above average)\n",
    "# These days are traditionnaly \"party days\", or at least the days where people are going out\n",
    "# This creates additionnal demand for route search because people may commute to new places\n",
    "\n",
    "# The rest of searches seems to be coming from daily comuting usage (cf. The time of usage)\n",
    "# A additionnal step to understand our users would be to get more information about their profile, \n",
    "# (age, employment type...)"
   ]
  },
  {
   "cell_type": "code",
   "execution_count": 104,
   "metadata": {
    "collapsed": false
   },
   "outputs": [
    {
     "name": "stdout",
     "output_type": "stream",
     "text": [
      "departure    20770\n",
      "arrival       9011\n",
      "Name: search_mode, dtype: int64\n"
     ]
    }
   ],
   "source": [
    "# Are the users using the app with departure datetime or arrival datetime ?\n",
    "search_mode = rq_in_advance_filter['search_mode'].value_counts()\n",
    "print(search_mode)"
   ]
  },
  {
   "cell_type": "code",
   "execution_count": 105,
   "metadata": {
    "collapsed": false
   },
   "outputs": [
    {
     "name": "stdout",
     "output_type": "stream",
     "text": [
      "70.0% of users are using departure (is default)\n",
      "30.0% of users are using arrival\n"
     ]
    }
   ],
   "source": [
    "print(str(round(search_mode['departure'] / search_mode.sum()*100)) + '% of users are using departure (is default)')\n",
    "print(str(round(search_mode['arrival'] / search_mode.sum()*100)) + '% of users are using arrival')"
   ]
  },
  {
   "cell_type": "code",
   "execution_count": 106,
   "metadata": {
    "collapsed": false
   },
   "outputs": [
    {
     "data": {
      "text/plain": [
       "count                       69955\n",
       "mean     -1 days +22:55:30.824186\n",
       "std        1 days 01:22:16.632744\n",
       "min           -111 days +05:30:42\n",
       "25%             -1 days +23:59:08\n",
       "50%             -1 days +23:59:24\n",
       "75%             -1 days +23:59:41\n",
       "max             -1 days +23:59:59\n",
       "Name: query_to_search_time, dtype: object"
      ]
     },
     "execution_count": 106,
     "metadata": {},
     "output_type": "execute_result"
    }
   ],
   "source": [
    "rq_last_minute = rq[rq['query_to_search_time'] < pd.Timedelta('0 days')]\n",
    "rq_last_minute['query_to_search_time'].describe()"
   ]
  },
  {
   "cell_type": "code",
   "execution_count": 107,
   "metadata": {
    "collapsed": false
   },
   "outputs": [
    {
     "data": {
      "text/plain": [
       "count                       69791\n",
       "mean     -1 days +23:48:06.929016\n",
       "std        0 days 01:42:43.621974\n",
       "min             -1 days +00:00:09\n",
       "25%             -1 days +23:59:08\n",
       "50%             -1 days +23:59:24\n",
       "75%             -1 days +23:59:41\n",
       "max             -1 days +23:59:59\n",
       "Name: query_to_search_time, dtype: object"
      ]
     },
     "execution_count": 107,
     "metadata": {},
     "output_type": "execute_result"
    }
   ],
   "source": [
    "# It looks like some user managed to search for a time in the past up to 111 days..\n",
    "# On average 1 hours before the actual time...\n",
    "# Although this shoud not be possible on the app, it appears on the data. This could be a bug.\n",
    "# EDIT: after a few tests, I managed to reproduce that bug.. :)\n",
    "# However there seems to be very low number of such cases as the 25% shows.\n",
    "# I will bet on wrong data and exclude them from this sample:\n",
    "rq_last_minute = rq_last_minute[rq_last_minute['query_to_search_time'] > pd.Timedelta('-1 days')]\n",
    "rq_last_minute['query_to_search_time'].describe()"
   ]
  },
  {
   "cell_type": "code",
   "execution_count": null,
   "metadata": {
    "collapsed": true
   },
   "outputs": [],
   "source": [
    "# According to this data set, 75% of the users are completing the search screen in less than 1 minute, \n",
    "# even if the mean is quite big (12 mins) due to bigger values in the sample.\n",
    "# This could be a KPI for UX. The goal being to lower the time on the screen of the user \n",
    "# so that he can access the results he needs quickly."
   ]
  },
  {
   "cell_type": "code",
   "execution_count": null,
   "metadata": {
    "collapsed": true
   },
   "outputs": [],
   "source": []
  }
 ],
 "metadata": {
  "kernelspec": {
   "display_name": "Python 3",
   "language": "python",
   "name": "python3"
  },
  "language_info": {
   "codemirror_mode": {
    "name": "ipython",
    "version": 3
   },
   "file_extension": ".py",
   "mimetype": "text/x-python",
   "name": "python",
   "nbconvert_exporter": "python",
   "pygments_lexer": "ipython3",
   "version": "3.5.1"
  }
 },
 "nbformat": 4,
 "nbformat_minor": 0
}
