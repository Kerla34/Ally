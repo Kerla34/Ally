{
 "cells": [
  {
   "cell_type": "code",
   "execution_count": 19,
   "metadata": {},
   "outputs": [],
   "source": [
    "__author__ = 'thomas'\n",
    "\n",
    "# Alright ! Let's do this\n",
    "# We have csv file containing data from Ally app\n",
    "# The idea will be to extract as many insights as possible\n",
    "# Let's first start by importing the file\n",
    "\n",
    "\n",
    "# import libraries\n",
    "import numpy as np, matplotlib.pyplot as plt, matplotlib, pandas as pd, os\n",
    "\n",
    "# Import the data file as a Pandas DataFrame\n",
    "path = os.getcwd()\n",
    "rq = pd.read_csv(path + '/data/route_queries.csv')"
   ]
  },
  {
   "cell_type": "code",
   "execution_count": 20,
   "metadata": {},
   "outputs": [
    {
     "name": "stdout",
     "output_type": "stream",
     "text": [
      "user_id                    object\n",
      "query_time                 object\n",
      "search_time                object\n",
      "search_mode                object\n",
      "search_origin_lat         float64\n",
      "search_origin_lon         float64\n",
      "search_destination_lat    float64\n",
      "search_destination_lon    float64\n",
      "dtype: object\n"
     ]
    }
   ],
   "source": [
    "# Check the columns and their data types\n",
    "\n",
    "print(rq.dtypes)"
   ]
  },
  {
   "cell_type": "code",
   "execution_count": 94,
   "metadata": {},
   "outputs": [
    {
     "name": "stdout",
     "output_type": "stream",
     "text": [
      "user_id                            object\n",
      "query_time                 datetime64[ns]\n",
      "search_time                datetime64[ns]\n",
      "search_mode                        object\n",
      "search_origin_lat                 float64\n",
      "search_origin_lon                 float64\n",
      "search_destination_lat            float64\n",
      "search_destination_lon            float64\n",
      "query_to_search_time      timedelta64[ns]\n",
      "dtype: object\n"
     ]
    }
   ],
   "source": [
    "# Convert dates from object to date type:\n",
    "\n",
    "rq['query_time'] = (rq['query_time'].apply(pd.to_datetime))\n",
    "rq['search_time'] = (rq['search_time'].apply(pd.to_datetime))\n",
    "\n",
    "print(rq.dtypes)"
   ]
  },
  {
   "cell_type": "code",
   "execution_count": 22,
   "metadata": {},
   "outputs": [],
   "source": [
    "# Visualize 1st lines of the dataset\n",
    "\n",
    "print(rq.head(2))\n",
    "print('\\n')"
   ]
  },
  {
   "cell_type": "code",
   "execution_count": 23,
   "metadata": {},
   "outputs": [
    {
     "name": "stdout",
     "output_type": "stream",
     "text": [
      "Number of events: 100000\n",
      "Index(['user_id', 'query_time', 'search_time', 'search_mode',\n",
      "       'search_origin_lat', 'search_origin_lon', 'search_destination_lat',\n",
      "       'search_destination_lon'],\n",
      "      dtype='object')\n"
     ]
    }
   ],
   "source": [
    "# What is the size of our sample ?\n",
    "rq_size = len(rq.index)\n",
    "print('Number of events: ' + str(rq_size))\n",
    "print(rq.columns)  # Column names"
   ]
  },
  {
   "cell_type": "code",
   "execution_count": 24,
   "metadata": {},
   "outputs": [],
   "source": [
    "# How many unique users ? And how many time did they use the app\n",
    "\n",
    "users = rq[rq.columns[0]].value_counts()"
   ]
  },
  {
   "cell_type": "code",
   "execution_count": 25,
   "metadata": {},
   "outputs": [
    {
     "name": "stdout",
     "output_type": "stream",
     "text": [
      "Number of unique users: 32510\n"
     ]
    }
   ],
   "source": [
    "number_users = len(users.index)\n",
    "print('Number of unique users: ' + str(number_users))"
   ]
  },
  {
   "cell_type": "code",
   "execution_count": 26,
   "metadata": {},
   "outputs": [
    {
     "name": "stdout",
     "output_type": "stream",
     "text": [
      "d41d8cd98f00b204e9800998ecf8427e    6878\n",
      "a44bbb4db0084e68c96ed6a17aa97313     140\n",
      "4a25d4bcfa26037be8083006f1bc1f04     140\n",
      "77be395d12db5497c92262c29dd34863      95\n",
      "71d4b2afefb76ae7425fab144b7dd455      93\n",
      "475bbed04c2f3d2fb0edfd907321ed47      87\n",
      "3aa75cc75fd1e6a927a9d331d935f341      83\n",
      "2ab1d1675c0f3cf88bc7fba70f2d9941      81\n",
      "867cb0d89417b93f0dbe6048b6833f51      79\n",
      "ad31b423cf4e815a65f2bd80ef8ff971      74\n",
      "088c51a5724b7b1e70a16bbc6916268a      72\n",
      "83322d4f01d8bd256f5ba0b79d847d7b      71\n",
      "e04a6062d5393c3b1930fd4762e99267      70\n",
      "de12297aada54f874205fa78c4ce9c86      68\n",
      "694d446ec2af0730a269881e8de9a24e      64\n",
      "4d52afe2ec00f8fd776f80bb17cfb017      62\n",
      "b7871e52737dbfdf9b0f05c0103690ba      61\n",
      "89b5e18606a126d2037c1a7eb9c8796b      60\n",
      "42e08f81945193e874aea11a125dd5fd      60\n",
      "3589e2570a7bb65f162d54ba9e3c4462      59\n",
      "189f3a10606d9d5d66f67498ddf8386d      59\n",
      "7287d36301959c929f2855762fb8f09b      58\n",
      "91bd605234d087ee872a5e97ff2bd7c4      57\n",
      "5d6e311b6dc53279de7444dc06cc722b      56\n",
      "20979ed8542495efc7b6b06e3be890dc      56\n",
      "990d32ba28a3acb9ac2e393745dbe037      55\n",
      "82d9b1841e689da5ef98c9ded785bb0a      54\n",
      "ca1bce445f95272e73bf724c8032882a      53\n",
      "e733f828101b8b11f567e4ebbd03dc2d      53\n",
      "c421cc05b3129d906c88e95ec44441db      53\n",
      "                                    ... \n",
      "e392c0f958e9df35a57e8b2de9980e52       1\n",
      "fda673f9ac48db574744e2ea393e06a2       1\n",
      "0879e25be27f9f1fde3f139fcc8c6974       1\n",
      "8fd9bac344a984f8211e2bb0e324482f       1\n",
      "120fe04a86c575584a2307d89a2c41a2       1\n",
      "236af275d171a0314ee6a1e2f49f1cce       1\n",
      "f455fc39b567a15e67b15d2357de926f       1\n",
      "4023719087f5057e1b263e0fb2f8e840       1\n",
      "40df02999f78b2d04ece1971a315ecee       1\n",
      "a637105fce9b5b03f3731354d761f0f5       1\n",
      "079898f1dab854e6bdae373da97d0062       1\n",
      "abe848d18ab5ba4c2802cd9ae364adfe       1\n",
      "39a3694c4f83afea0c3d2d0ab25b2098       1\n",
      "137912fe7666a9119d88743a92e3fa34       1\n",
      "fb3a9b773d7e127c66ccc2f7f80b029a       1\n",
      "c5b80b0493184241390c4bbb557140d5       1\n",
      "c116973d591617721ed8fa33d0c62264       1\n",
      "d44f9f82c81d4e9bc8d3d94bea7ce9a6       1\n",
      "315089f65f8f723e5d5e83f84a97734d       1\n",
      "def75eeeac4308c8b2dded87fbea2b4a       1\n",
      "31a8c1647fcb4b509a3e35b8869c5f90       1\n",
      "69fabfc4599f4be2df1d0103610e570e       1\n",
      "5bb863a5b865b481977c35dbdced2f4e       1\n",
      "d4d8465f2bfb641b4fa4fef22a0de8ea       1\n",
      "5888dd2142703cabc87475f46b001fc9       1\n",
      "55e3f6ac90b5120c15c07f64f6ff75b6       1\n",
      "85abb05ddb41ee4e145c169c8f844140       1\n",
      "3ef48f5aadeda2b25fa3d527e69c8221       1\n",
      "5f34255d3150a0da06e6f725ed0ef963       1\n",
      "fb940530d26b733006843d40ac9f3bfa       1\n",
      "Name: user_id, dtype: int64\n"
     ]
    }
   ],
   "source": [
    "print(users)"
   ]
  },
  {
   "cell_type": "code",
   "execution_count": 27,
   "metadata": {},
   "outputs": [],
   "source": [
    "# The first user appear almost 7000 times ! It's quite huge ! Let's remove it for visualisation reason.\n",
    "# Showing the number of use from the 20 first customers except our guy.\n",
    "users2 = users[1:20]\n",
    "users2.plot(kind='bar')\n",
    "plt.show()"
   ]
  },
  {
   "cell_type": "code",
   "execution_count": 28,
   "metadata": {},
   "outputs": [
    {
     "name": "stdout",
     "output_type": "stream",
     "text": [
      "14273 users are recurring users over all time\n",
      "They represent 43.9% of the total number of users\n",
      "\n",
      "\n"
     ]
    }
   ],
   "source": [
    "# How many users have used the app more than once ?\n",
    "print(str(len(users[users>1])) + ' users are recurring users over all time')\n",
    "print('They represent ' + str(100*round(len(users[users>1]) / number_users,4)) + '% of the total number of users')\n",
    "print('\\n')"
   ]
  },
  {
   "cell_type": "code",
   "execution_count": 29,
   "metadata": {},
   "outputs": [],
   "source": [
    "# Returning users within a certain time frame\n",
    "# Define time frame\n",
    "ret_tf = pd.Timedelta('30 days')\n",
    "# Calculate column query_time - previous(query_time)"
   ]
  },
  {
   "cell_type": "code",
   "execution_count": 30,
   "metadata": {},
   "outputs": [
    {
     "name": "stdout",
     "output_type": "stream",
     "text": [
      "0       -1 days +23:59:05\n",
      "1       -1 days +23:59:52\n",
      "2       -1 days +23:59:41\n",
      "3       -1 days +23:59:20\n",
      "4       -1 days +23:59:27\n",
      "5       -1 days +23:59:25\n",
      "6       -1 days +23:59:49\n",
      "7       -1 days +23:59:48\n",
      "8         0 days 01:13:20\n",
      "9       -1 days +23:59:14\n",
      "10      -1 days +23:59:26\n",
      "11        0 days 00:51:02\n",
      "12        0 days 00:02:49\n",
      "13        0 days 02:43:38\n",
      "14      -1 days +23:59:49\n",
      "15      -1 days +23:59:22\n",
      "16      -1 days +23:59:28\n",
      "17      -1 days +23:59:03\n",
      "18      -1 days +23:59:43\n",
      "19      -1 days +23:59:05\n",
      "20        0 days 00:14:22\n",
      "21        0 days 00:30:18\n",
      "22      -1 days +23:59:51\n",
      "23      -1 days +23:58:59\n",
      "24        0 days 00:59:32\n",
      "25        1 days 18:18:12\n",
      "26        0 days 00:18:10\n",
      "27        0 days 03:49:45\n",
      "28      -1 days +23:59:29\n",
      "29        0 days 01:42:09\n",
      "               ...       \n",
      "99970   -1 days +23:59:17\n",
      "99971   -1 days +23:59:04\n",
      "99972   -1 days +23:59:09\n",
      "99973     0 days 00:06:58\n",
      "99974   -1 days +23:58:47\n",
      "99975     2 days 08:49:34\n",
      "99976   -1 days +23:59:53\n",
      "99977   -1 days +23:59:28\n",
      "99978   -1 days +23:59:06\n",
      "99979   -1 days +23:59:23\n",
      "99980   -1 days +23:59:28\n",
      "99981     0 days 00:10:37\n",
      "99982     0 days 07:53:48\n",
      "99983     0 days 10:57:22\n",
      "99984     0 days 03:58:12\n",
      "99985   -1 days +23:59:06\n",
      "99986   -1 days +23:59:06\n",
      "99987   -1 days +23:59:16\n",
      "99988   -1 days +23:59:00\n",
      "99989     0 days 01:36:33\n",
      "99990   -1 days +23:59:30\n",
      "99991   -1 days +23:58:53\n",
      "99992   -1 days +23:42:24\n",
      "99993   -1 days +23:59:16\n",
      "99994   -1 days +23:59:17\n",
      "99995   -1 days +23:59:16\n",
      "99996   -1 days +23:59:32\n",
      "99997   -1 days +23:59:41\n",
      "99998   -1 days +23:59:36\n",
      "99999   -1 days +23:59:44\n",
      "Name: query_to_search_time, dtype: timedelta64[ns]\n"
     ]
    }
   ],
   "source": [
    "# Are users searching their route in advance or at last minute ?\n",
    "\n",
    "rq['query_to_search_time'] = rq['search_time'] - rq['query_time']\n",
    "print(rq['query_to_search_time'])"
   ]
  },
  {
   "cell_type": "code",
   "execution_count": 31,
   "metadata": {},
   "outputs": [],
   "source": [
    "# Negative values are due to the small delay between app opening and the actual time the user\n",
    "# tap the search button. We can see that they are really small.\n",
    "# They should not be considered for our use case... BUT they give us\n",
    "# a very useful information: the time to complete the form !\n",
    "# It's actually an indicator we could use for UX evaluation (and improvement) (we'll come back on this later!)"
   ]
  },
  {
   "cell_type": "code",
   "execution_count": 32,
   "metadata": {},
   "outputs": [
    {
     "name": "stdout",
     "output_type": "stream",
     "text": [
      "count                     29905\n",
      "mean     1 days 00:22:43.617923\n",
      "std      7 days 01:14:21.059081\n",
      "min             0 days 00:00:01\n",
      "25%             0 days 00:43:40\n",
      "50%             0 days 02:59:35\n",
      "75%             0 days 12:54:50\n",
      "max           724 days 19:18:00\n",
      "Name: query_to_search_time, dtype: object\n"
     ]
    }
   ],
   "source": [
    "# Let's check how much time in advance the user look for a route\n",
    "rq_in_advance = rq[rq['query_to_search_time'] > pd.Timedelta('0 days')]\n",
    "print(rq_in_advance['query_to_search_time'].describe())"
   ]
  },
  {
   "cell_type": "code",
   "execution_count": 33,
   "metadata": {},
   "outputs": [
    {
     "name": "stdout",
     "output_type": "stream",
     "text": [
      "29905 events are use to check the route in advance, they represent 29.9% of our the app usage\n"
     ]
    }
   ],
   "source": [
    "print(str(len(rq_in_advance.index)) + ' events are use to check the route in advance, they represent ' +\n",
    "      str(round(len(rq_in_advance.index) / rq_size * 100, 2)) + '% of our the app usage')"
   ]
  },
  {
   "cell_type": "code",
   "execution_count": 34,
   "metadata": {},
   "outputs": [
    {
     "name": "stdout",
     "output_type": "stream",
     "text": [
      "count                     29781\n",
      "mean     0 days 17:06:32.825459\n",
      "std      2 days 03:52:19.202079\n",
      "min             0 days 00:00:01\n",
      "25%             0 days 00:43:19\n",
      "50%             0 days 02:58:14\n",
      "75%             0 days 12:46:08\n",
      "max            29 days 23:59:21\n",
      "Name: query_to_search_time, dtype: object\n",
      "count                        124\n",
      "mean     73 days 18:19:45.959677\n",
      "std      74 days 20:08:00.572751\n",
      "min             30 days 00:39:28\n",
      "25%      39 days 08:35:11.500000\n",
      "50%             51 days 19:44:00\n",
      "75%      78 days 15:01:51.250000\n",
      "max            724 days 19:18:00\n",
      "Name: query_to_search_time, dtype: object\n"
     ]
    }
   ],
   "source": [
    "# Looks like there are some outliers here, some people searching for long time in the future.. Doesn't look like\n",
    "# a normal usage of Ally, let's limit it to 30 days in the future to exclude extreme cases.\n",
    "rq_in_advance_filter = rq_in_advance[rq_in_advance['query_to_search_time'] < pd.Timedelta('30 days')]\n",
    "print(rq_in_advance_filter['query_to_search_time'].describe())\n",
    "rq_in_advance_filter2 = rq_in_advance[rq_in_advance['query_to_search_time'] > pd.Timedelta('30 days')]\n",
    "print(rq_in_advance_filter2['query_to_search_time'].describe())"
   ]
  },
  {
   "cell_type": "code",
   "execution_count": 35,
   "metadata": {},
   "outputs": [
    {
     "ename": "AttributeError",
     "evalue": "'numpy.timedelta64' object has no attribute 'total_seconds'",
     "output_type": "error",
     "traceback": [
      "\u001b[1;31m---------------------------------------------------------------------------\u001b[0m",
      "\u001b[1;31mAttributeError\u001b[0m                            Traceback (most recent call last)",
      "\u001b[1;32m<ipython-input-35-1ae98204a547>\u001b[0m in \u001b[0;36m<module>\u001b[1;34m()\u001b[0m\n\u001b[0;32m      1\u001b[0m \u001b[1;31m# Let's describe the distribution of this usage in a histogram, per hour\u001b[0m\u001b[1;33m\u001b[0m\u001b[1;33m\u001b[0m\u001b[0m\n\u001b[0;32m      2\u001b[0m rq_in_advance_filter['query_to_search_time'] = rq_in_advance_filter['query_to_search_time'].apply(\n\u001b[1;32m----> 3\u001b[1;33m     lambda x: x.total_seconds() ) # not working !!!\n\u001b[0m\u001b[0;32m      4\u001b[0m \u001b[0musage_in_advance\u001b[0m \u001b[1;33m=\u001b[0m \u001b[0mrq_in_advance_filter\u001b[0m\u001b[1;33m[\u001b[0m\u001b[0mrq_in_advance_filter\u001b[0m\u001b[1;33m[\u001b[0m\u001b[1;34m'query_to_search_time'\u001b[0m\u001b[1;33m]\u001b[0m\u001b[1;33m.\u001b[0m\u001b[0mvalue_counts\u001b[0m\u001b[1;33m(\u001b[0m\u001b[1;33m)\u001b[0m\u001b[1;33m]\u001b[0m\u001b[1;33m\u001b[0m\u001b[0m\n\u001b[0;32m      5\u001b[0m \u001b[0musage_in_advance\u001b[0m\u001b[1;33m.\u001b[0m\u001b[0mplot\u001b[0m\u001b[1;33m(\u001b[0m\u001b[0mkind\u001b[0m\u001b[1;33m=\u001b[0m\u001b[1;34m'hist'\u001b[0m\u001b[1;33m,\u001b[0m \u001b[0malpha\u001b[0m\u001b[1;33m=\u001b[0m\u001b[1;36m0.5\u001b[0m\u001b[1;33m)\u001b[0m\u001b[1;33m\u001b[0m\u001b[0m\n",
      "\u001b[1;32m/home/thomas/anaconda3/envs/test1/lib/python3.5/site-packages/pandas/core/series.py\u001b[0m in \u001b[0;36mapply\u001b[1;34m(self, func, convert_dtype, args, **kwds)\u001b[0m\n\u001b[0;32m   2167\u001b[0m             \u001b[0mvalues\u001b[0m \u001b[1;33m=\u001b[0m \u001b[0mlib\u001b[0m\u001b[1;33m.\u001b[0m\u001b[0mmap_infer\u001b[0m\u001b[1;33m(\u001b[0m\u001b[0mvalues\u001b[0m\u001b[1;33m,\u001b[0m \u001b[0mlib\u001b[0m\u001b[1;33m.\u001b[0m\u001b[0mTimestamp\u001b[0m\u001b[1;33m)\u001b[0m\u001b[1;33m\u001b[0m\u001b[0m\n\u001b[0;32m   2168\u001b[0m \u001b[1;33m\u001b[0m\u001b[0m\n\u001b[1;32m-> 2169\u001b[1;33m         \u001b[0mmapped\u001b[0m \u001b[1;33m=\u001b[0m \u001b[0mlib\u001b[0m\u001b[1;33m.\u001b[0m\u001b[0mmap_infer\u001b[0m\u001b[1;33m(\u001b[0m\u001b[0mvalues\u001b[0m\u001b[1;33m,\u001b[0m \u001b[0mf\u001b[0m\u001b[1;33m,\u001b[0m \u001b[0mconvert\u001b[0m\u001b[1;33m=\u001b[0m\u001b[0mconvert_dtype\u001b[0m\u001b[1;33m)\u001b[0m\u001b[1;33m\u001b[0m\u001b[0m\n\u001b[0m\u001b[0;32m   2170\u001b[0m         \u001b[1;32mif\u001b[0m \u001b[0mlen\u001b[0m\u001b[1;33m(\u001b[0m\u001b[0mmapped\u001b[0m\u001b[1;33m)\u001b[0m \u001b[1;32mand\u001b[0m \u001b[0misinstance\u001b[0m\u001b[1;33m(\u001b[0m\u001b[0mmapped\u001b[0m\u001b[1;33m[\u001b[0m\u001b[1;36m0\u001b[0m\u001b[1;33m]\u001b[0m\u001b[1;33m,\u001b[0m \u001b[0mSeries\u001b[0m\u001b[1;33m)\u001b[0m\u001b[1;33m:\u001b[0m\u001b[1;33m\u001b[0m\u001b[0m\n\u001b[0;32m   2171\u001b[0m             \u001b[1;32mfrom\u001b[0m \u001b[0mpandas\u001b[0m\u001b[1;33m.\u001b[0m\u001b[0mcore\u001b[0m\u001b[1;33m.\u001b[0m\u001b[0mframe\u001b[0m \u001b[1;32mimport\u001b[0m \u001b[0mDataFrame\u001b[0m\u001b[1;33m\u001b[0m\u001b[0m\n",
      "\u001b[1;32mpandas/src/inference.pyx\u001b[0m in \u001b[0;36mpandas.lib.map_infer (pandas/lib.c:62578)\u001b[1;34m()\u001b[0m\n",
      "\u001b[1;32m<ipython-input-35-1ae98204a547>\u001b[0m in \u001b[0;36m<lambda>\u001b[1;34m(x)\u001b[0m\n\u001b[0;32m      1\u001b[0m \u001b[1;31m# Let's describe the distribution of this usage in a histogram, per hour\u001b[0m\u001b[1;33m\u001b[0m\u001b[1;33m\u001b[0m\u001b[0m\n\u001b[0;32m      2\u001b[0m rq_in_advance_filter['query_to_search_time'] = rq_in_advance_filter['query_to_search_time'].apply(\n\u001b[1;32m----> 3\u001b[1;33m     lambda x: x.total_seconds() ) # not working !!!\n\u001b[0m\u001b[0;32m      4\u001b[0m \u001b[0musage_in_advance\u001b[0m \u001b[1;33m=\u001b[0m \u001b[0mrq_in_advance_filter\u001b[0m\u001b[1;33m[\u001b[0m\u001b[0mrq_in_advance_filter\u001b[0m\u001b[1;33m[\u001b[0m\u001b[1;34m'query_to_search_time'\u001b[0m\u001b[1;33m]\u001b[0m\u001b[1;33m.\u001b[0m\u001b[0mvalue_counts\u001b[0m\u001b[1;33m(\u001b[0m\u001b[1;33m)\u001b[0m\u001b[1;33m]\u001b[0m\u001b[1;33m\u001b[0m\u001b[0m\n\u001b[0;32m      5\u001b[0m \u001b[0musage_in_advance\u001b[0m\u001b[1;33m.\u001b[0m\u001b[0mplot\u001b[0m\u001b[1;33m(\u001b[0m\u001b[0mkind\u001b[0m\u001b[1;33m=\u001b[0m\u001b[1;34m'hist'\u001b[0m\u001b[1;33m,\u001b[0m \u001b[0malpha\u001b[0m\u001b[1;33m=\u001b[0m\u001b[1;36m0.5\u001b[0m\u001b[1;33m)\u001b[0m\u001b[1;33m\u001b[0m\u001b[0m\n",
      "\u001b[1;31mAttributeError\u001b[0m: 'numpy.timedelta64' object has no attribute 'total_seconds'"
     ]
    }
   ],
   "source": [
    "# Let's describe the distribution of this usage in a histogram, per hour\n",
    "rq_in_advance_filter['query_to_search_time'] = rq_in_advance_filter['query_to_search_time'].apply(\n",
    "    lambda x: x.total_seconds() ) # not working !!!\n",
    "usage_in_advance = rq_in_advance_filter[rq_in_advance_filter['query_to_search_time'].value_counts()]\n",
    "usage_in_advance.plot(kind='hist', alpha=0.5)\n",
    "plt.show()"
   ]
  },
  {
   "cell_type": "code",
   "execution_count": 55,
   "metadata": {},
   "outputs": [
    {
     "name": "stdout",
     "output_type": "stream",
     "text": [
      "departure    20770\n",
      "arrival       9011\n",
      "Name: search_mode, dtype: int64\n"
     ]
    }
   ],
   "source": [
    "# Are the users using the app with departure datetime or arrival datetime ?\n",
    "search_mode = rq_in_advance_filter['search_mode'].value_counts()\n",
    "print(search_mode)"
   ]
  },
  {
   "cell_type": "code",
   "execution_count": 80,
   "metadata": {},
   "outputs": [
    {
     "name": "stdout",
     "output_type": "stream",
     "text": [
      "70.0% of users are using departure\n",
      "30.0% of users are using arrival\n"
     ]
    }
   ],
   "source": [
    "print(str(round(search_mode['departure'] / search_mode.sum()*100)) + '% of users are using departure')\n",
    "print(str(round(search_mode['arrival'] / search_mode.sum()*100)) + '% of users are using arrival')"
   ]
  },
  {
   "cell_type": "code",
   "execution_count": 85,
   "metadata": {},
   "outputs": [
    {
     "data": {
      "text/plain": [
       "count                       69955\n",
       "mean     -1 days +22:55:30.824186\n",
       "std        1 days 01:22:16.632744\n",
       "min           -111 days +05:30:42\n",
       "25%             -1 days +23:59:08\n",
       "50%             -1 days +23:59:24\n",
       "75%             -1 days +23:59:41\n",
       "max             -1 days +23:59:59\n",
       "Name: query_to_search_time, dtype: object"
      ]
     },
     "execution_count": 85,
     "output_type": "execute_result",
     "metadata": {}
    }
   ],
   "source": [
    "rq_last_minute = rq[rq['query_to_search_time'] < pd.Timedelta('0 days')]\n",
    "rq_last_minute['query_to_search_time'].describe()"
   ]
  },
  {
   "cell_type": "code",
   "execution_count": 88,
   "metadata": {},
   "outputs": [
    {
     "data": {
      "text/plain": [
       "count                       69791\n",
       "mean     -1 days +23:48:06.929016\n",
       "std        0 days 01:42:43.621974\n",
       "min             -1 days +00:00:09\n",
       "25%             -1 days +23:59:08\n",
       "50%             -1 days +23:59:24\n",
       "75%             -1 days +23:59:41\n",
       "max             -1 days +23:59:59\n",
       "Name: query_to_search_time, dtype: object"
      ]
     },
     "execution_count": 88,
     "output_type": "execute_result",
     "metadata": {}
    }
   ],
   "source": [
    "# It looks like some user managed to search for a time in the past up to 111 days..\n",
    "# On average 1 hours before the actual time...\n",
    "# Although this shoud not be possible on the app, it appears on the data. This could be a bug.\n",
    "# EDIT: after a few tests, I managed to reproduce that bug.. :)\n",
    "# However there seems to be very low number of such cases as the 25% shows.\n",
    "# I will bet on wrong data and exclude them from this sample:\n",
    "rq_last_minute = rq_last_minute[rq_last_minute['query_to_search_time'] > pd.Timedelta('-1 days')]\n",
    "rq_last_minute['query_to_search_time'].describe()"
   ]
  },
  {
   "cell_type": "code",
   "execution_count": 89,
   "metadata": {},
   "outputs": [],
   "source": [
    "# According to this data set, 75% of the users are completing the search screen in less than 1 minute, \n",
    "# even if the mean is quite big (12 mins) due to bigger values in the sample.\n",
    "# This could be a KPI for UX. The goal being to lower the time on the screen of the user \n",
    "# so that he can access the results he needs quickly."
   ]
  },
  {
   "cell_type": "code",
   "execution_count": null,
   "metadata": {},
   "outputs": [],
   "source": [
    ""
   ]
  }
 ],
 "metadata": {
  "kernelspec": {
   "display_name": "Python 3",
   "language": "python",
   "name": "python3"
  },
  "language_info": {
   "codemirror_mode": {
    "name": "ipython",
    "version": 3.0
   },
   "file_extension": ".py",
   "mimetype": "text/x-python",
   "name": "python",
   "nbconvert_exporter": "python",
   "pygments_lexer": "ipython3",
   "version": "3.5.1"
  }
 },
 "nbformat": 4,
 "nbformat_minor": 0
}